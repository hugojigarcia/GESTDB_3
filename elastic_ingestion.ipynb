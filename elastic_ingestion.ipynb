{
 "cells": [
  {
   "cell_type": "code",
   "execution_count": 1,
   "id": "789f250a-8a1d-41da-82b9-643e01be194e",
   "metadata": {},
   "outputs": [
    {
     "name": "stdout",
     "output_type": "stream",
     "text": [
      "Requirement already satisfied: elasticsearch in /opt/conda/lib/python3.8/site-packages (8.15.1)\n",
      "Requirement already satisfied: elastic-transport<9,>=8.13 in /opt/conda/lib/python3.8/site-packages (from elasticsearch) (8.15.1)\n",
      "Requirement already satisfied: certifi in /opt/conda/lib/python3.8/site-packages (from elastic-transport<9,>=8.13->elasticsearch) (2022.9.24)\n",
      "Requirement already satisfied: urllib3<3,>=1.26.2 in /opt/conda/lib/python3.8/site-packages (from elastic-transport<9,>=8.13->elasticsearch) (1.26.11)\n",
      "Requirement already satisfied: sentence-transformers in /opt/conda/lib/python3.8/site-packages (3.2.1)\n",
      "Requirement already satisfied: torch>=1.11.0 in /opt/conda/lib/python3.8/site-packages (from sentence-transformers) (2.4.1)\n",
      "Requirement already satisfied: transformers<5.0.0,>=4.41.0 in /opt/conda/lib/python3.8/site-packages (from sentence-transformers) (4.46.1)\n",
      "Requirement already satisfied: huggingface-hub>=0.20.0 in /opt/conda/lib/python3.8/site-packages (from sentence-transformers) (0.26.2)\n",
      "Requirement already satisfied: tqdm in /opt/conda/lib/python3.8/site-packages (from sentence-transformers) (4.66.6)\n",
      "Requirement already satisfied: scikit-learn in /opt/conda/lib/python3.8/site-packages (from sentence-transformers) (1.1.2)\n",
      "Requirement already satisfied: Pillow in /opt/conda/lib/python3.8/site-packages (from sentence-transformers) (9.2.0)\n",
      "Requirement already satisfied: scipy in /opt/conda/lib/python3.8/site-packages (from sentence-transformers) (1.9.1)\n",
      "Requirement already satisfied: typing-extensions>=3.7.4.3 in /opt/conda/lib/python3.8/site-packages (from huggingface-hub>=0.20.0->sentence-transformers) (4.12.2)\n",
      "Requirement already satisfied: requests in /opt/conda/lib/python3.8/site-packages (from huggingface-hub>=0.20.0->sentence-transformers) (2.32.3)\n",
      "Requirement already satisfied: fsspec>=2023.5.0 in /opt/conda/lib/python3.8/site-packages (from huggingface-hub>=0.20.0->sentence-transformers) (2024.9.0)\n",
      "Requirement already satisfied: filelock in /opt/conda/lib/python3.8/site-packages (from huggingface-hub>=0.20.0->sentence-transformers) (3.16.1)\n",
      "Requirement already satisfied: packaging>=20.9 in /opt/conda/lib/python3.8/site-packages (from huggingface-hub>=0.20.0->sentence-transformers) (21.3)\n",
      "Requirement already satisfied: pyyaml>=5.1 in /opt/conda/lib/python3.8/site-packages (from huggingface-hub>=0.20.0->sentence-transformers) (6.0)\n",
      "Requirement already satisfied: nvidia-cuda-nvrtc-cu12==12.1.105 in /opt/conda/lib/python3.8/site-packages (from torch>=1.11.0->sentence-transformers) (12.1.105)\n",
      "Requirement already satisfied: nvidia-cuda-runtime-cu12==12.1.105 in /opt/conda/lib/python3.8/site-packages (from torch>=1.11.0->sentence-transformers) (12.1.105)\n",
      "Requirement already satisfied: sympy in /opt/conda/lib/python3.8/site-packages (from torch>=1.11.0->sentence-transformers) (1.11.1)\n",
      "Requirement already satisfied: networkx in /opt/conda/lib/python3.8/site-packages (from torch>=1.11.0->sentence-transformers) (2.8.7)\n",
      "Requirement already satisfied: nvidia-cuda-cupti-cu12==12.1.105 in /opt/conda/lib/python3.8/site-packages (from torch>=1.11.0->sentence-transformers) (12.1.105)\n",
      "Requirement already satisfied: jinja2 in /opt/conda/lib/python3.8/site-packages (from torch>=1.11.0->sentence-transformers) (3.1.2)\n",
      "Requirement already satisfied: nvidia-cusparse-cu12==12.1.0.106 in /opt/conda/lib/python3.8/site-packages (from torch>=1.11.0->sentence-transformers) (12.1.0.106)\n",
      "Requirement already satisfied: nvidia-cufft-cu12==11.0.2.54 in /opt/conda/lib/python3.8/site-packages (from torch>=1.11.0->sentence-transformers) (11.0.2.54)\n",
      "Requirement already satisfied: nvidia-curand-cu12==10.3.2.106 in /opt/conda/lib/python3.8/site-packages (from torch>=1.11.0->sentence-transformers) (10.3.2.106)\n",
      "Requirement already satisfied: nvidia-nccl-cu12==2.20.5 in /opt/conda/lib/python3.8/site-packages (from torch>=1.11.0->sentence-transformers) (2.20.5)\n",
      "Requirement already satisfied: nvidia-cublas-cu12==12.1.3.1 in /opt/conda/lib/python3.8/site-packages (from torch>=1.11.0->sentence-transformers) (12.1.3.1)\n",
      "Requirement already satisfied: nvidia-nvtx-cu12==12.1.105 in /opt/conda/lib/python3.8/site-packages (from torch>=1.11.0->sentence-transformers) (12.1.105)\n",
      "Requirement already satisfied: nvidia-cusolver-cu12==11.4.5.107 in /opt/conda/lib/python3.8/site-packages (from torch>=1.11.0->sentence-transformers) (11.4.5.107)\n",
      "Requirement already satisfied: nvidia-cudnn-cu12==9.1.0.70 in /opt/conda/lib/python3.8/site-packages (from torch>=1.11.0->sentence-transformers) (9.1.0.70)\n",
      "Requirement already satisfied: triton==3.0.0 in /opt/conda/lib/python3.8/site-packages (from torch>=1.11.0->sentence-transformers) (3.0.0)\n",
      "Requirement already satisfied: nvidia-nvjitlink-cu12 in /opt/conda/lib/python3.8/site-packages (from nvidia-cusolver-cu12==11.4.5.107->torch>=1.11.0->sentence-transformers) (12.6.77)\n",
      "Requirement already satisfied: numpy>=1.17 in /opt/conda/lib/python3.8/site-packages (from transformers<5.0.0,>=4.41.0->sentence-transformers) (1.23.3)\n",
      "Requirement already satisfied: safetensors>=0.4.1 in /opt/conda/lib/python3.8/site-packages (from transformers<5.0.0,>=4.41.0->sentence-transformers) (0.4.5)\n",
      "Requirement already satisfied: tokenizers<0.21,>=0.20 in /opt/conda/lib/python3.8/site-packages (from transformers<5.0.0,>=4.41.0->sentence-transformers) (0.20.2)\n",
      "Requirement already satisfied: regex!=2019.12.17 in /opt/conda/lib/python3.8/site-packages (from transformers<5.0.0,>=4.41.0->sentence-transformers) (2024.9.11)\n",
      "Requirement already satisfied: threadpoolctl>=2.0.0 in /opt/conda/lib/python3.8/site-packages (from scikit-learn->sentence-transformers) (3.1.0)\n",
      "Requirement already satisfied: joblib>=1.0.0 in /opt/conda/lib/python3.8/site-packages (from scikit-learn->sentence-transformers) (1.2.0)\n",
      "Requirement already satisfied: pyparsing!=3.0.5,>=2.0.2 in /opt/conda/lib/python3.8/site-packages (from packaging>=20.9->huggingface-hub>=0.20.0->sentence-transformers) (3.0.9)\n",
      "Requirement already satisfied: MarkupSafe>=2.0 in /opt/conda/lib/python3.8/site-packages (from jinja2->torch>=1.11.0->sentence-transformers) (2.1.1)\n",
      "Requirement already satisfied: charset-normalizer<4,>=2 in /opt/conda/lib/python3.8/site-packages (from requests->huggingface-hub>=0.20.0->sentence-transformers) (2.1.1)\n",
      "Requirement already satisfied: certifi>=2017.4.17 in /opt/conda/lib/python3.8/site-packages (from requests->huggingface-hub>=0.20.0->sentence-transformers) (2022.9.24)\n",
      "Requirement already satisfied: urllib3<3,>=1.21.1 in /opt/conda/lib/python3.8/site-packages (from requests->huggingface-hub>=0.20.0->sentence-transformers) (1.26.11)\n",
      "Requirement already satisfied: idna<4,>=2.5 in /opt/conda/lib/python3.8/site-packages (from requests->huggingface-hub>=0.20.0->sentence-transformers) (3.4)\n",
      "Requirement already satisfied: mpmath>=0.19 in /opt/conda/lib/python3.8/site-packages (from sympy->torch>=1.11.0->sentence-transformers) (1.2.1)\n"
     ]
    }
   ],
   "source": [
    "!pip install elasticsearch\n",
    "!pip install sentence-transformers"
   ]
  },
  {
   "cell_type": "code",
   "execution_count": 2,
   "id": "5fd903a2-6992-4fe9-9b50-1fc91575e845",
   "metadata": {},
   "outputs": [],
   "source": [
    "import json\n",
    "from elasticsearch import Elasticsearch\n",
    "\n",
    "es = Elasticsearch( \"http://elasticsearch:9200\")\n"
   ]
  },
  {
   "cell_type": "code",
   "execution_count": 3,
   "id": "b0dceed0-90d2-4de9-879f-c1b9e3ca27df",
   "metadata": {},
   "outputs": [
    {
     "data": {
      "text/html": [
       "<div>\n",
       "<style scoped>\n",
       "    .dataframe tbody tr th:only-of-type {\n",
       "        vertical-align: middle;\n",
       "    }\n",
       "\n",
       "    .dataframe tbody tr th {\n",
       "        vertical-align: top;\n",
       "    }\n",
       "\n",
       "    .dataframe thead th {\n",
       "        text-align: right;\n",
       "    }\n",
       "</style>\n",
       "<table border=\"1\" class=\"dataframe\">\n",
       "  <thead>\n",
       "    <tr style=\"text-align: right;\">\n",
       "      <th></th>\n",
       "      <th>driverId</th>\n",
       "      <th>wikipedia_description</th>\n",
       "    </tr>\n",
       "  </thead>\n",
       "  <tbody>\n",
       "    <tr>\n",
       "      <th>0</th>\n",
       "      <td>1</td>\n",
       "      <td>British racing driver\\nRivalries\\nSir Lewis Ca...</td>\n",
       "    </tr>\n",
       "    <tr>\n",
       "      <th>1</th>\n",
       "      <td>2</td>\n",
       "      <td>Nick Lars Heidfeld (German pronunciation: [nɪk...</td>\n",
       "    </tr>\n",
       "    <tr>\n",
       "      <th>2</th>\n",
       "      <td>3</td>\n",
       "      <td>Nico Erik Rosberg (born 27 June 1985) is a Ger...</td>\n",
       "    </tr>\n",
       "    <tr>\n",
       "      <th>3</th>\n",
       "      <td>4</td>\n",
       "      <td>Fernando Alonso Díaz (Spanish pronunciation: [...</td>\n",
       "    </tr>\n",
       "    <tr>\n",
       "      <th>4</th>\n",
       "      <td>5</td>\n",
       "      <td>Heikki Johannes Kovalainen (Finnish pronunciat...</td>\n",
       "    </tr>\n",
       "    <tr>\n",
       "      <th>...</th>\n",
       "      <td>...</td>\n",
       "      <td>...</td>\n",
       "    </tr>\n",
       "    <tr>\n",
       "      <th>855</th>\n",
       "      <td>857</td>\n",
       "      <td>Oscar Jack Piastri (born 6 April 2001) is an A...</td>\n",
       "    </tr>\n",
       "    <tr>\n",
       "      <th>856</th>\n",
       "      <td>858</td>\n",
       "      <td>Logan Hunter Sargeant (born December 31, 2000)...</td>\n",
       "    </tr>\n",
       "    <tr>\n",
       "      <th>857</th>\n",
       "      <td>859</td>\n",
       "      <td>Liam Lawson (born 11 February 2002) is a New Z...</td>\n",
       "    </tr>\n",
       "    <tr>\n",
       "      <th>858</th>\n",
       "      <td>860</td>\n",
       "      <td>Oliver James Bearman (born 8 May 2005) is a Br...</td>\n",
       "    </tr>\n",
       "    <tr>\n",
       "      <th>859</th>\n",
       "      <td>861</td>\n",
       "      <td>Franco Alejandro Colapinto (Spanish pronunciat...</td>\n",
       "    </tr>\n",
       "  </tbody>\n",
       "</table>\n",
       "<p>860 rows × 2 columns</p>\n",
       "</div>"
      ],
      "text/plain": [
       "     driverId                              wikipedia_description\n",
       "0           1  British racing driver\\nRivalries\\nSir Lewis Ca...\n",
       "1           2  Nick Lars Heidfeld (German pronunciation: [nɪk...\n",
       "2           3  Nico Erik Rosberg (born 27 June 1985) is a Ger...\n",
       "3           4  Fernando Alonso Díaz (Spanish pronunciation: [...\n",
       "4           5  Heikki Johannes Kovalainen (Finnish pronunciat...\n",
       "..        ...                                                ...\n",
       "855       857  Oscar Jack Piastri (born 6 April 2001) is an A...\n",
       "856       858  Logan Hunter Sargeant (born December 31, 2000)...\n",
       "857       859  Liam Lawson (born 11 February 2002) is a New Z...\n",
       "858       860  Oliver James Bearman (born 8 May 2005) is a Br...\n",
       "859       861  Franco Alejandro Colapinto (Spanish pronunciat...\n",
       "\n",
       "[860 rows x 2 columns]"
      ]
     },
     "execution_count": 3,
     "metadata": {},
     "output_type": "execute_result"
    }
   ],
   "source": [
    "import pandas as pd\n",
    "\n",
    "# Load CSV file\n",
    "df = pd.read_json('./data/unstructured/drivers_wikipedias.jsonl', lines=True)\n",
    "df"
   ]
  },
  {
   "cell_type": "code",
   "execution_count": 4,
   "id": "d30abe54-8310-4b18-ad6c-319dc45a7c30",
   "metadata": {},
   "outputs": [
    {
     "data": {
      "text/plain": [
       "driverId                  int64\n",
       "wikipedia_description    object\n",
       "dtype: object"
      ]
     },
     "execution_count": 4,
     "metadata": {},
     "output_type": "execute_result"
    }
   ],
   "source": [
    "df.dtypes"
   ]
  },
  {
   "cell_type": "code",
   "execution_count": 6,
   "id": "fa6a9fdc-d89f-494e-b65c-ad0fd987bc7b",
   "metadata": {},
   "outputs": [
    {
     "data": {
      "text/plain": [
       "array([[ 0.00288702, -0.03604181,  0.0042402 , ...,  0.00089948,\n",
       "        -0.06555907,  0.01624825],\n",
       "       [-0.01659629, -0.02656355, -0.01617689, ...,  0.00301233,\n",
       "        -0.05957953,  0.04344898],\n",
       "       [-0.01109292, -0.02974781, -0.002038  , ...,  0.00244354,\n",
       "        -0.0783103 ,  0.01465064],\n",
       "       ...,\n",
       "       [ 0.00593708,  0.00384961,  0.00308535, ..., -0.02574416,\n",
       "        -0.02467067,  0.03154134],\n",
       "       [-0.01262657,  0.00586637,  0.00518287, ...,  0.01456884,\n",
       "        -0.03208819,  0.01872776],\n",
       "       [ 0.02477685, -0.00691548,  0.00730457, ...,  0.01904931,\n",
       "        -0.03958486, -0.0046946 ]], dtype=float32)"
      ]
     },
     "execution_count": 6,
     "metadata": {},
     "output_type": "execute_result"
    }
   ],
   "source": [
    "from sentence_transformers import SentenceTransformer\n",
    "\n",
    "model = SentenceTransformer('intfloat/multilingual-e5-large')\n",
    "\n",
    "embeddings = model.encode(df[\"wikipedia_description\"].values.tolist())\n",
    "embeddings"
   ]
  },
  {
   "cell_type": "code",
   "execution_count": 9,
   "id": "821ba2cf-ef31-418c-8d3b-acfeb0a21956",
   "metadata": {},
   "outputs": [
    {
     "data": {
      "text/html": [
       "<div>\n",
       "<style scoped>\n",
       "    .dataframe tbody tr th:only-of-type {\n",
       "        vertical-align: middle;\n",
       "    }\n",
       "\n",
       "    .dataframe tbody tr th {\n",
       "        vertical-align: top;\n",
       "    }\n",
       "\n",
       "    .dataframe thead th {\n",
       "        text-align: right;\n",
       "    }\n",
       "</style>\n",
       "<table border=\"1\" class=\"dataframe\">\n",
       "  <thead>\n",
       "    <tr style=\"text-align: right;\">\n",
       "      <th></th>\n",
       "      <th>driverId</th>\n",
       "      <th>wikipedia_description</th>\n",
       "      <th>wikipedia_description_vector</th>\n",
       "    </tr>\n",
       "  </thead>\n",
       "  <tbody>\n",
       "    <tr>\n",
       "      <th>0</th>\n",
       "      <td>1</td>\n",
       "      <td>British racing driver\\nRivalries\\nSir Lewis Ca...</td>\n",
       "      <td>[0.0028870185, -0.036041815, 0.0042401953, -0....</td>\n",
       "    </tr>\n",
       "    <tr>\n",
       "      <th>1</th>\n",
       "      <td>2</td>\n",
       "      <td>Nick Lars Heidfeld (German pronunciation: [nɪk...</td>\n",
       "      <td>[-0.016596286, -0.02656355, -0.016176887, -0.0...</td>\n",
       "    </tr>\n",
       "    <tr>\n",
       "      <th>2</th>\n",
       "      <td>3</td>\n",
       "      <td>Nico Erik Rosberg (born 27 June 1985) is a Ger...</td>\n",
       "      <td>[-0.011092918, -0.029747814, -0.0020379967, -0...</td>\n",
       "    </tr>\n",
       "    <tr>\n",
       "      <th>3</th>\n",
       "      <td>4</td>\n",
       "      <td>Fernando Alonso Díaz (Spanish pronunciation: [...</td>\n",
       "      <td>[0.0108537795, -0.010756244, 0.0008550639, -0....</td>\n",
       "    </tr>\n",
       "    <tr>\n",
       "      <th>4</th>\n",
       "      <td>5</td>\n",
       "      <td>Heikki Johannes Kovalainen (Finnish pronunciat...</td>\n",
       "      <td>[-0.018135607, -0.030896196, -0.011842099, -0....</td>\n",
       "    </tr>\n",
       "    <tr>\n",
       "      <th>...</th>\n",
       "      <td>...</td>\n",
       "      <td>...</td>\n",
       "      <td>...</td>\n",
       "    </tr>\n",
       "    <tr>\n",
       "      <th>855</th>\n",
       "      <td>857</td>\n",
       "      <td>Oscar Jack Piastri (born 6 April 2001) is an A...</td>\n",
       "      <td>[-0.00938711, -0.011900783, -0.0076955585, -0....</td>\n",
       "    </tr>\n",
       "    <tr>\n",
       "      <th>856</th>\n",
       "      <td>858</td>\n",
       "      <td>Logan Hunter Sargeant (born December 31, 2000)...</td>\n",
       "      <td>[0.016696291, 0.0070512095, -0.007261097, -0.0...</td>\n",
       "    </tr>\n",
       "    <tr>\n",
       "      <th>857</th>\n",
       "      <td>859</td>\n",
       "      <td>Liam Lawson (born 11 February 2002) is a New Z...</td>\n",
       "      <td>[0.0059370785, 0.0038496093, 0.0030853467, -0....</td>\n",
       "    </tr>\n",
       "    <tr>\n",
       "      <th>858</th>\n",
       "      <td>860</td>\n",
       "      <td>Oliver James Bearman (born 8 May 2005) is a Br...</td>\n",
       "      <td>[-0.012626566, 0.0058663664, 0.005182872, -0.0...</td>\n",
       "    </tr>\n",
       "    <tr>\n",
       "      <th>859</th>\n",
       "      <td>861</td>\n",
       "      <td>Franco Alejandro Colapinto (Spanish pronunciat...</td>\n",
       "      <td>[0.024776846, -0.006915477, 0.0073045683, -0.0...</td>\n",
       "    </tr>\n",
       "  </tbody>\n",
       "</table>\n",
       "<p>860 rows × 3 columns</p>\n",
       "</div>"
      ],
      "text/plain": [
       "     driverId                              wikipedia_description  \\\n",
       "0           1  British racing driver\\nRivalries\\nSir Lewis Ca...   \n",
       "1           2  Nick Lars Heidfeld (German pronunciation: [nɪk...   \n",
       "2           3  Nico Erik Rosberg (born 27 June 1985) is a Ger...   \n",
       "3           4  Fernando Alonso Díaz (Spanish pronunciation: [...   \n",
       "4           5  Heikki Johannes Kovalainen (Finnish pronunciat...   \n",
       "..        ...                                                ...   \n",
       "855       857  Oscar Jack Piastri (born 6 April 2001) is an A...   \n",
       "856       858  Logan Hunter Sargeant (born December 31, 2000)...   \n",
       "857       859  Liam Lawson (born 11 February 2002) is a New Z...   \n",
       "858       860  Oliver James Bearman (born 8 May 2005) is a Br...   \n",
       "859       861  Franco Alejandro Colapinto (Spanish pronunciat...   \n",
       "\n",
       "                          wikipedia_description_vector  \n",
       "0    [0.0028870185, -0.036041815, 0.0042401953, -0....  \n",
       "1    [-0.016596286, -0.02656355, -0.016176887, -0.0...  \n",
       "2    [-0.011092918, -0.029747814, -0.0020379967, -0...  \n",
       "3    [0.0108537795, -0.010756244, 0.0008550639, -0....  \n",
       "4    [-0.018135607, -0.030896196, -0.011842099, -0....  \n",
       "..                                                 ...  \n",
       "855  [-0.00938711, -0.011900783, -0.0076955585, -0....  \n",
       "856  [0.016696291, 0.0070512095, -0.007261097, -0.0...  \n",
       "857  [0.0059370785, 0.0038496093, 0.0030853467, -0....  \n",
       "858  [-0.012626566, 0.0058663664, 0.005182872, -0.0...  \n",
       "859  [0.024776846, -0.006915477, 0.0073045683, -0.0...  \n",
       "\n",
       "[860 rows x 3 columns]"
      ]
     },
     "execution_count": 9,
     "metadata": {},
     "output_type": "execute_result"
    }
   ],
   "source": [
    "df[\"wikipedia_description_vector\"] = list(embeddings)\n",
    "df"
   ]
  },
  {
   "cell_type": "code",
   "execution_count": 14,
   "id": "29246681-7769-49b5-8f72-e8eb3f25687b",
   "metadata": {},
   "outputs": [
    {
     "data": {
      "text/plain": [
       "\"Index 'drivers_descriptions' created with mapping.\""
      ]
     },
     "execution_count": 14,
     "metadata": {},
     "output_type": "execute_result"
    }
   ],
   "source": [
    "mapping = {\n",
    "    \"mappings\": {\n",
    "        \"properties\": {\n",
    "            \"driverId\": { \"type\": \"integer\" },\n",
    "            \"wikipedia_description\": { \"type\": \"text\" },\n",
    "            \"wikipedia_description_vector\": {\n",
    "                \"type\": \"dense_vector\",\n",
    "                \"dims\": embeddings.shape[1],\n",
    "                \"index\":True,\n",
    "                \"similarity\": \"cosine\"\n",
    "            }\n",
    "        }\n",
    "    }\n",
    "}\n",
    "\n",
    "index_name = 'drivers_descriptions'\n",
    "if es.indices.exists(index=index_name):\n",
    "    es.indices.delete(index=index_name)\n",
    "\n",
    "es.indices.create(index=index_name, body=mapping)\n",
    "f\"Index '{index_name}' created with mapping.\""
   ]
  },
  {
   "cell_type": "code",
   "execution_count": 32,
   "id": "b4c1a119-dc4e-4c38-8ba4-640885abaac9",
   "metadata": {},
   "outputs": [
    {
     "name": "stdout",
     "output_type": "stream",
     "text": [
      "Indexed: 50 Errors: []\n",
      "Indexed: 50 Errors: []\n",
      "Indexed: 50 Errors: []\n",
      "Indexed: 50 Errors: []\n",
      "Indexed: 50 Errors: []\n",
      "Indexed: 50 Errors: []\n",
      "Indexed: 50 Errors: []\n",
      "Indexed: 50 Errors: []\n",
      "Indexed: 50 Errors: []\n",
      "Indexed: 50 Errors: []\n",
      "Indexed: 50 Errors: []\n",
      "Indexed: 50 Errors: []\n",
      "Indexed: 50 Errors: []\n",
      "Indexed: 50 Errors: []\n",
      "Indexed: 50 Errors: []\n",
      "Indexed: 50 Errors: []\n",
      "Indexed: 50 Errors: []\n",
      "Indexed: 10 Errors: []\n"
     ]
    }
   ],
   "source": [
    "from elasticsearch.helpers import bulk\n",
    "\n",
    "def bulk_index_data(es, data, index_name):\n",
    "    batch_size = 50  # Reducir el tamaño del lote a 50\n",
    "    for i in range(0, len(data), batch_size):\n",
    "        batch = data[i:i+batch_size]\n",
    "        actions = []\n",
    "        for doc in batch:\n",
    "            actions.append({\n",
    "                \"_index\": index_name,\n",
    "                \"_id\": doc['driverId'],\n",
    "                \"_source\": doc\n",
    "            })\n",
    "        # Capturar la respuesta para verificar errores\n",
    "        resp = bulk(es, actions, raise_on_error=True)\n",
    "        print(\"Indexed:\", resp[0], \"Errors:\", resp[1])\n",
    "\n",
    "drivers = df.to_dict(orient='records')\n",
    "bulk_index_data(es, drivers, index_name)"
   ]
  },
  {
   "cell_type": "markdown",
   "id": "00ccfa94-2087-492d-a9aa-9fef94b820c1",
   "metadata": {},
   "source": [
    "## Comprobar que se han cargado los datos"
   ]
  },
  {
   "cell_type": "code",
   "execution_count": 39,
   "id": "27efa4df-d14f-4a5d-8fb7-f9106e4bb2cd",
   "metadata": {},
   "outputs": [
    {
     "name": "stdout",
     "output_type": "stream",
     "text": [
      "860\n"
     ]
    }
   ],
   "source": [
    "res = es.search(index=index_name, body={\n",
    "    'query': {\n",
    "        'match_all': {}\n",
    "    }\n",
    "})\n",
    "print(json.dumps(res.body['hits']['total']['value'], indent=4))"
   ]
  }
 ],
 "metadata": {
  "kernelspec": {
   "display_name": "Python 3 (ipykernel)",
   "language": "python",
   "name": "python3"
  },
  "language_info": {
   "codemirror_mode": {
    "name": "ipython",
    "version": 3
   },
   "file_extension": ".py",
   "mimetype": "text/x-python",
   "name": "python",
   "nbconvert_exporter": "python",
   "pygments_lexer": "ipython3",
   "version": "3.8.13"
  }
 },
 "nbformat": 4,
 "nbformat_minor": 5
}
